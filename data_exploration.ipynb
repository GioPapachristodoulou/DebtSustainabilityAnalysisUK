{
 "cells": [
  {
   "cell_type": "markdown",
   "id": "f765f31c",
   "metadata": {},
   "source": [
    "# OBR Data Exploration and Cleaning\n",
    "\n",
    "This notebook is for interactively exploring the OBR data files to ensure accurate and flawless data extraction for the debt sustainability analysis."
   ]
  },
  {
   "cell_type": "code",
   "execution_count": null,
   "id": "3118ce51",
   "metadata": {},
   "outputs": [],
   "source": [
    "import pandas as pd\n",
    "import os\n",
    "\n",
    "# Define file paths\n",
    "data_path = 'data/raw'\n",
    "processed_path = 'data/processed'\n",
    "\n",
    "# File paths\n",
    "debt_interest_file = os.path.join(data_path, 'Debt_interest_Detailed_forecast_tables_March_2025.xlsx')\n",
    "expenditure_file = os.path.join(data_path, 'Expenditure_Detailed_forecast_tables_March_2025.xlsx')\n",
    "economy_file = os.path.join(data_path, 'Economy_Detailed_forecast_tables_March_2025.xlsx')\n"
   ]
  },
  {
   "cell_type": "markdown",
   "id": "a1500090",
   "metadata": {},
   "source": [
    "## 1. Economy Data (Nominal GDP)"
   ]
  },
  {
   "cell_type": "code",
   "execution_count": null,
   "id": "1430635e",
   "metadata": {},
   "outputs": [],
   "source": [
    "# Load the economy data\n",
    "econ_df = pd.read_excel(economy_file, sheet_name='1.7', header=None)\n",
    "econ_df.head(10)"
   ]
  }
 ],
 "metadata": {
  "language_info": {
   "name": "python"
  }
 },
 "nbformat": 4,
 "nbformat_minor": 5
}
